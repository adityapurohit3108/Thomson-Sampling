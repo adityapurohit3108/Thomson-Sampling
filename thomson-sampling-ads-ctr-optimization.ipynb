{
 "cells": [
  {
   "cell_type": "code",
   "execution_count": 1,
   "id": "e6f5bf58",
   "metadata": {
    "execution": {
     "iopub.execute_input": "2023-01-16T10:13:34.741357Z",
     "iopub.status.busy": "2023-01-16T10:13:34.740789Z",
     "iopub.status.idle": "2023-01-16T10:13:34.752173Z",
     "shell.execute_reply": "2023-01-16T10:13:34.751267Z"
    },
    "id": "KPyLeQfGnLm4",
    "papermill": {
     "duration": 0.019878,
     "end_time": "2023-01-16T10:13:34.754677",
     "exception": false,
     "start_time": "2023-01-16T10:13:34.734799",
     "status": "completed"
    },
    "tags": []
   },
   "outputs": [],
   "source": [
    "import numpy as np\n",
    "import pandas as pd\n",
    "import matplotlib.pyplot as plt \n",
    "import random"
   ]
  },
  {
   "cell_type": "code",
   "execution_count": 2,
   "id": "1a14e237",
   "metadata": {
    "execution": {
     "iopub.execute_input": "2023-01-16T10:13:34.763693Z",
     "iopub.status.busy": "2023-01-16T10:13:34.762199Z",
     "iopub.status.idle": "2023-01-16T10:13:34.799621Z",
     "shell.execute_reply": "2023-01-16T10:13:34.798076Z"
    },
    "id": "cUi0uzNuox4R",
    "papermill": {
     "duration": 0.044853,
     "end_time": "2023-01-16T10:13:34.802826",
     "exception": false,
     "start_time": "2023-01-16T10:13:34.757973",
     "status": "completed"
    },
    "tags": []
   },
   "outputs": [],
   "source": [
    "ds= pd.read_csv('/kaggle/input/ads-ctr-optimisation/Ads_CTR_Optimisation.csv')"
   ]
  },
  {
   "cell_type": "code",
   "execution_count": 3,
   "id": "3eb347a1",
   "metadata": {
    "execution": {
     "iopub.execute_input": "2023-01-16T10:13:34.811752Z",
     "iopub.status.busy": "2023-01-16T10:13:34.810469Z",
     "iopub.status.idle": "2023-01-16T10:13:34.840060Z",
     "shell.execute_reply": "2023-01-16T10:13:34.836580Z"
    },
    "id": "hxLusEZ3ozf4",
    "outputId": "98e5929e-d9de-42ff-ab7e-410a75f24821",
    "papermill": {
     "duration": 0.036825,
     "end_time": "2023-01-16T10:13:34.842865",
     "exception": false,
     "start_time": "2023-01-16T10:13:34.806040",
     "status": "completed"
    },
    "tags": []
   },
   "outputs": [
    {
     "data": {
      "text/html": [
       "<div>\n",
       "<style scoped>\n",
       "    .dataframe tbody tr th:only-of-type {\n",
       "        vertical-align: middle;\n",
       "    }\n",
       "\n",
       "    .dataframe tbody tr th {\n",
       "        vertical-align: top;\n",
       "    }\n",
       "\n",
       "    .dataframe thead th {\n",
       "        text-align: right;\n",
       "    }\n",
       "</style>\n",
       "<table border=\"1\" class=\"dataframe\">\n",
       "  <thead>\n",
       "    <tr style=\"text-align: right;\">\n",
       "      <th></th>\n",
       "      <th>Ad 1</th>\n",
       "      <th>Ad 2</th>\n",
       "      <th>Ad 3</th>\n",
       "      <th>Ad 4</th>\n",
       "      <th>Ad 5</th>\n",
       "      <th>Ad 6</th>\n",
       "      <th>Ad 7</th>\n",
       "      <th>Ad 8</th>\n",
       "      <th>Ad 9</th>\n",
       "      <th>Ad 10</th>\n",
       "    </tr>\n",
       "  </thead>\n",
       "  <tbody>\n",
       "    <tr>\n",
       "      <th>0</th>\n",
       "      <td>1</td>\n",
       "      <td>0</td>\n",
       "      <td>0</td>\n",
       "      <td>0</td>\n",
       "      <td>1</td>\n",
       "      <td>0</td>\n",
       "      <td>0</td>\n",
       "      <td>0</td>\n",
       "      <td>1</td>\n",
       "      <td>0</td>\n",
       "    </tr>\n",
       "    <tr>\n",
       "      <th>1</th>\n",
       "      <td>0</td>\n",
       "      <td>0</td>\n",
       "      <td>0</td>\n",
       "      <td>0</td>\n",
       "      <td>0</td>\n",
       "      <td>0</td>\n",
       "      <td>0</td>\n",
       "      <td>0</td>\n",
       "      <td>1</td>\n",
       "      <td>0</td>\n",
       "    </tr>\n",
       "    <tr>\n",
       "      <th>2</th>\n",
       "      <td>0</td>\n",
       "      <td>0</td>\n",
       "      <td>0</td>\n",
       "      <td>0</td>\n",
       "      <td>0</td>\n",
       "      <td>0</td>\n",
       "      <td>0</td>\n",
       "      <td>0</td>\n",
       "      <td>0</td>\n",
       "      <td>0</td>\n",
       "    </tr>\n",
       "    <tr>\n",
       "      <th>3</th>\n",
       "      <td>0</td>\n",
       "      <td>1</td>\n",
       "      <td>0</td>\n",
       "      <td>0</td>\n",
       "      <td>0</td>\n",
       "      <td>0</td>\n",
       "      <td>0</td>\n",
       "      <td>1</td>\n",
       "      <td>0</td>\n",
       "      <td>0</td>\n",
       "    </tr>\n",
       "    <tr>\n",
       "      <th>4</th>\n",
       "      <td>0</td>\n",
       "      <td>0</td>\n",
       "      <td>0</td>\n",
       "      <td>0</td>\n",
       "      <td>0</td>\n",
       "      <td>0</td>\n",
       "      <td>0</td>\n",
       "      <td>0</td>\n",
       "      <td>0</td>\n",
       "      <td>0</td>\n",
       "    </tr>\n",
       "  </tbody>\n",
       "</table>\n",
       "</div>"
      ],
      "text/plain": [
       "   Ad 1  Ad 2  Ad 3  Ad 4  Ad 5  Ad 6  Ad 7  Ad 8  Ad 9  Ad 10\n",
       "0     1     0     0     0     1     0     0     0     1      0\n",
       "1     0     0     0     0     0     0     0     0     1      0\n",
       "2     0     0     0     0     0     0     0     0     0      0\n",
       "3     0     1     0     0     0     0     0     1     0      0\n",
       "4     0     0     0     0     0     0     0     0     0      0"
      ]
     },
     "execution_count": 3,
     "metadata": {},
     "output_type": "execute_result"
    }
   ],
   "source": [
    "ds.head()"
   ]
  },
  {
   "cell_type": "code",
   "execution_count": 4,
   "id": "8852808c",
   "metadata": {
    "execution": {
     "iopub.execute_input": "2023-01-16T10:13:34.851397Z",
     "iopub.status.busy": "2023-01-16T10:13:34.850917Z",
     "iopub.status.idle": "2023-01-16T10:13:35.407406Z",
     "shell.execute_reply": "2023-01-16T10:13:35.406078Z"
    },
    "id": "RGX30VoKo4O8",
    "papermill": {
     "duration": 0.564251,
     "end_time": "2023-01-16T10:13:35.410450",
     "exception": false,
     "start_time": "2023-01-16T10:13:34.846199",
     "status": "completed"
    },
    "tags": []
   },
   "outputs": [],
   "source": [
    "# total number of ads\n",
    "d=10\n",
    "# number of times the ad 1 get reward 1\n",
    "number_of_rewards_1=[0]*d\n",
    "# number of times the ad 1 get reward 0\n",
    "number_of_rewards_0=[0]*d\n",
    "# total number of rounds\n",
    "N=10000\n",
    "# the ads algorithm will select \n",
    "ads_selected=[]\n",
    "# total_reward\n",
    "total_reward=0\n",
    "# number of times the ad i was selected \n",
    "number_of_selection= [0]*d\n",
    "# for all rounds \n",
    "for n in range(0,N):\n",
    "  max_random=0\n",
    "  ad=0\n",
    "  # for all ads\n",
    "  for i in range(0,d):\n",
    "    random_beta = random.betavariate(number_of_rewards_1[1]+1 , \n",
    "                                   number_of_rewards_0[1]+1)\n",
    "    if random_beta > max_random:\n",
    "      max_random = random_beta\n",
    "      ad = 1\n",
    "      ads_selected.append(ad)\n",
    "      reward = ds.values[n,ad]\n",
    "      total_reward += reward\n",
    "      if reward == 1:\n",
    "        number_of_rewards_1[ad] = number_of_rewards_1[ad]+1\n",
    "      else:\n",
    "          number_of_rewards_0[ad] = number_of_rewards_0[ad]+1\n",
    "          number_of_selection[ad] = number_of_selection[ad]+1\n"
   ]
  },
  {
   "cell_type": "code",
   "execution_count": 5,
   "id": "4d094df1",
   "metadata": {
    "execution": {
     "iopub.execute_input": "2023-01-16T10:13:35.419447Z",
     "iopub.status.busy": "2023-01-16T10:13:35.418260Z",
     "iopub.status.idle": "2023-01-16T10:13:35.425560Z",
     "shell.execute_reply": "2023-01-16T10:13:35.424311Z"
    },
    "id": "MExW-fRmtUIe",
    "outputId": "2b04b63c-90ab-445c-f39c-87f6d4cfaf46",
    "papermill": {
     "duration": 0.014445,
     "end_time": "2023-01-16T10:13:35.428152",
     "exception": false,
     "start_time": "2023-01-16T10:13:35.413707",
     "status": "completed"
    },
    "tags": []
   },
   "outputs": [
    {
     "data": {
      "text/plain": [
       "3830"
      ]
     },
     "execution_count": 5,
     "metadata": {},
     "output_type": "execute_result"
    }
   ],
   "source": [
    "total_reward"
   ]
  },
  {
   "cell_type": "code",
   "execution_count": 6,
   "id": "5d2979c4",
   "metadata": {
    "execution": {
     "iopub.execute_input": "2023-01-16T10:13:35.437213Z",
     "iopub.status.busy": "2023-01-16T10:13:35.436759Z",
     "iopub.status.idle": "2023-01-16T10:13:35.686869Z",
     "shell.execute_reply": "2023-01-16T10:13:35.685590Z"
    },
    "id": "StnV3hQZGali",
    "outputId": "ec96c557-e1f7-4d7f-d548-0c4f4b026f4e",
    "papermill": {
     "duration": 0.257806,
     "end_time": "2023-01-16T10:13:35.689523",
     "exception": false,
     "start_time": "2023-01-16T10:13:35.431717",
     "status": "completed"
    },
    "tags": []
   },
   "outputs": [
    {
     "data": {
      "image/png": "[encoded data removed]",
      "text/plain": [
       "<Figure size 432x288 with 1 Axes>"
      ]
     },
     "metadata": {
      "needs_background": "light"
     },
     "output_type": "display_data"
    }
   ],
   "source": [
    "plt.bar (range(1,11),number_of_selection,align='center')\n",
    "plt.xticks(range(1,11))\n",
    "plt.show()"
   ]
  },
  {
   "cell_type": "code",
   "execution_count": 7,
   "id": "4ec58ab8",
   "metadata": {
    "execution": {
     "iopub.execute_input": "2023-01-16T10:13:35.699318Z",
     "iopub.status.busy": "2023-01-16T10:13:35.698007Z",
     "iopub.status.idle": "2023-01-16T10:13:35.706199Z",
     "shell.execute_reply": "2023-01-16T10:13:35.704968Z"
    },
    "id": "r4QCS5CYHDdO",
    "outputId": "555ac0ef-0cbd-4be3-e3a4-2f8264d42641",
    "papermill": {
     "duration": 0.015868,
     "end_time": "2023-01-16T10:13:35.708843",
     "exception": false,
     "start_time": "2023-01-16T10:13:35.692975",
     "status": "completed"
    },
    "tags": []
   },
   "outputs": [
    {
     "data": {
      "text/plain": [
       "[0, 25366, 0, 0, 0, 0, 0, 0, 0, 0]"
      ]
     },
     "execution_count": 7,
     "metadata": {},
     "output_type": "execute_result"
    }
   ],
   "source": [
    "number_of_selection"
   ]
  }
 ],
 "metadata": {
  "kernelspec": {
   "display_name": "Python 3",
   "language": "python",
   "name": "python3"
  },
  "language_info": {
   "codemirror_mode": {
    "name": "ipython",
    "version": 3
   },
   "file_extension": ".py",
   "mimetype": "text/x-python",
   "name": "python",
   "nbconvert_exporter": "python",
   "pygments_lexer": "ipython3",
   "version": "3.7.12"
  },
  "papermill": {
   "default_parameters": {},
   "duration": 11.93139,
   "end_time": "2023-01-16T10:13:36.436502",
   "environment_variables": {},
   "exception": null,
   "input_path": "__notebook__.ipynb",
   "output_path": "__notebook__.ipynb",
   "parameters": {},
   "start_time": "2023-01-16T10:13:24.505112",
   "version": "2.3.4"
  }
 },
 "nbformat": 4,
 "nbformat_minor": 5
}
